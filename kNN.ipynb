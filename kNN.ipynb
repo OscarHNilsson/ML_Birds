{
 "cells": [
  {
   "metadata": {},
   "cell_type": "markdown",
   "source": [
    "This notebook will implement a kNN algorithm from scratch, where we try to categorize different birds from images.\n",
    "\n",
    "First we import our needed libraries"
   ],
   "id": "d220c71870907bb9"
  },
  {
   "metadata": {},
   "cell_type": "code",
   "source": "import skimage as ski",
   "id": "330164ecf9204b38",
   "outputs": [],
   "execution_count": null
  }
 ],
 "metadata": {
  "kernelspec": {
   "display_name": "Python 3",
   "language": "python",
   "name": "python3"
  },
  "language_info": {
   "codemirror_mode": {
    "name": "ipython",
    "version": 2
   },
   "file_extension": ".py",
   "mimetype": "text/x-python",
   "name": "python",
   "nbconvert_exporter": "python",
   "pygments_lexer": "ipython2",
   "version": "2.7.6"
  }
 },
 "nbformat": 4,
 "nbformat_minor": 5
}
